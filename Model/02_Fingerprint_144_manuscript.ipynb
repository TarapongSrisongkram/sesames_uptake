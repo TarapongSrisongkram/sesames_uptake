{
 "cells": [
  {
   "cell_type": "code",
   "execution_count": 1,
   "id": "df9e39ab-908e-4fe8-aa8c-dcd904d5a8fc",
   "metadata": {},
   "outputs": [],
   "source": [
    "from rdkit import Chem\n",
    "from rdkit.Chem import Draw\n",
    "from rdkit.Chem.Draw import IPythonConsole\n",
    "from rdkit.Chem import Descriptors\n",
    "from rdkit.Chem import AllChem\n",
    "from rdkit import DataStructs\n",
    "import numpy as np\n",
    "import pandas as pd\n",
    "import scipy.stats\n",
    "%matplotlib inline\n",
    "import matplotlib.pyplot as plt\n",
    "import seaborn as sns\n",
    "from sklearn.model_selection import train_test_split"
   ]
  },
  {
   "cell_type": "code",
   "execution_count": 2,
   "id": "ef21ae8a-e902-4932-8995-9bac74b76482",
   "metadata": {},
   "outputs": [
    {
     "data": {
      "text/plain": [
       "'/Users/tarapongsrisongkram/OneDrive - Khon Kaen University (1)/Manuscript 4/Model'"
      ]
     },
     "execution_count": 2,
     "metadata": {},
     "output_type": "execute_result"
    }
   ],
   "source": [
    "pwd"
   ]
  },
  {
   "cell_type": "markdown",
   "id": "0bb11fd8-1823-4177-8831-e7b25e9dbb09",
   "metadata": {},
   "source": [
    "# Calculate molecular fingerprint and descriptors by Mordred descriptor\n"
   ]
  },
  {
   "cell_type": "code",
   "execution_count": 3,
   "id": "1a386852-1e94-40cc-bbd9-563bfd1e10d7",
   "metadata": {},
   "outputs": [
    {
     "name": "stdout",
     "output_type": "stream",
     "text": [
      "usage: python -m mordred [-h] [--version] [-t {auto,sdf,mol,smi}] [-o OUTPUT]\n",
      "                         [-p PROCESSES] [-q] [-s] [-d DESC] [-3] [-v]\n",
      "                         INPUT [INPUT ...]\n",
      "\n",
      "positional arguments:\n",
      "  INPUT\n",
      "\n",
      "optional arguments:\n",
      "  -h, --help            show this help message and exit\n",
      "  --version             input molecular file\n",
      "  -t {auto,sdf,mol,smi}, --type {auto,sdf,mol,smi}\n",
      "                        input filetype (default: auto)\n",
      "  -o OUTPUT, --output OUTPUT\n",
      "                        output file path (default: stdout)\n",
      "  -p PROCESSES, --processes PROCESSES\n",
      "                        number of processes (default: number of logical\n",
      "                        processors)\n",
      "  -q, --quiet           hide progress bar\n",
      "  -s, --stream          stream read\n",
      "  -d DESC, --descriptor DESC\n",
      "                        descriptors to calculate (default: all)\n",
      "  -3, --3D              use 3D descriptors (require sdf or mol file)\n",
      "  -v, --verbosity       verbosity\n",
      "\n",
      "descriptors: ABCIndex AcidBase AdjacencyMatrix Aromatic AtomCount\n",
      "Autocorrelation BCUT BalabanJ BaryszMatrix BertzCT BondCount CPSA CarbonTypes\n",
      "Chi Constitutional DetourMatrix DistanceMatrix EState\n",
      "EccentricConnectivityIndex ExtendedTopochemicalAtom FragmentComplexity\n",
      "Framework GeometricalIndex GravitationalIndex HydrogenBond InformationContent\n",
      "KappaShapeIndex Lipinski LogS McGowanVolume MoRSE MoeType\n",
      "MolecularDistanceEdge MolecularId MomentOfInertia PBF PathCount Polarizability\n",
      "RingCount RotatableBond SLogP TopoPSA TopologicalCharge TopologicalIndex\n",
      "VdwVolumeABC VertexAdjacencyInformation WalkCount Weight WienerIndex\n",
      "ZagrebIndex\n"
     ]
    }
   ],
   "source": [
    "!python -m mordred --help"
   ]
  },
  {
   "cell_type": "code",
   "execution_count": 5,
   "id": "5e37a2e5-7806-4070-b449-fe760c9427a2",
   "metadata": {},
   "outputs": [],
   "source": [
    "#-d Chi -d Constitutional -d DetourMatrix -d DistanceMatrix -d EState\n",
    "#-d EccentricConnectivityIndex -d ExtendedTopochemicalAtom -d FragmentComplexity\n",
    "#-d Framework -d GeometricalIndex -d GravitationalIndex -d HydrogenBond -d InformationContent\n",
    "#-d KappaShapeIndex -d Lipinski -d LogS -d McGowanVolume -d MoeType\n",
    "#-d MolecularDistanceEdge -d MolecularId -d PathCount -d Polarizability\n",
    "#-d RingCount -d RotatableBond -d SLogP -d TopoPSA -d TopologicalCharge -d TopologicalIndex\n",
    "#-d VdwVolumeABC -d VertexAdjacencyInformation -d WalkCount -d Weight -d WienerIndex\n",
    "#-d ZagrebIndex"
   ]
  },
  {
   "cell_type": "code",
   "execution_count": 6,
   "id": "a5917b7e-d98c-47ec-9644-c51ba34ef628",
   "metadata": {},
   "outputs": [
    {
     "name": "stdout",
     "output_type": "stream",
     "text": [
      "100%|█████████████████████████████████████████| 144/144 [00:21<00:00,  6.58it/s]\n"
     ]
    }
   ],
   "source": [
    "!python -m mordred -t smi smiles/new_smiles_Kp.smi -o Fingerprint/mordard_Kp.csv -d ABCIndex -d AcidBase -d AdjacencyMatrix -d Aromatic -d AtomCount -d Autocorrelation -d BCUT -d BalabanJ -d BertzCT -d BondCount -d CarbonTypes -d Chi -d Constitutional -d DistanceMatrix -d EState -d EccentricConnectivityIndex -d ExtendedTopochemicalAtom -d FragmentComplexity -d Framework -d GeometricalIndex -d GravitationalIndex -d HydrogenBond -d InformationContent -d KappaShapeIndex -d Lipinski -d LogS -d McGowanVolume -d MoeType -d MolecularDistanceEdge -d MolecularId -d PathCount -d Polarizability -d RingCount -d RotatableBond -d SLogP -d TopoPSA -d TopologicalCharge -d TopologicalIndex -d VdwVolumeABC -d VertexAdjacencyInformation -d WalkCount -d Weight -d WienerIndex -d ZagrebIndex\n"
   ]
  }
 ],
 "metadata": {
  "kernelspec": {
   "display_name": "Python 3",
   "language": "python",
   "name": "python3"
  },
  "language_info": {
   "codemirror_mode": {
    "name": "ipython",
    "version": 3
   },
   "file_extension": ".py",
   "mimetype": "text/x-python",
   "name": "python",
   "nbconvert_exporter": "python",
   "pygments_lexer": "ipython3",
   "version": "3.8.8"
  }
 },
 "nbformat": 4,
 "nbformat_minor": 5
}
